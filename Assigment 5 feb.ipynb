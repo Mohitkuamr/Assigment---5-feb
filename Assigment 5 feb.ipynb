{
 "cells": [
  {
   "cell_type": "markdown",
   "id": "d895975b-0db9-440f-a3b1-8a0fea6038b1",
   "metadata": {},
   "source": [
    "Ans =1\n",
    "A class is a code template for creating objects. Objects have member variables and have behaviour associated with them. In python a class is created by the keyword class . An object is created using the constructor of the class. This object will then be called the instance of the class.\n",
    "example = \n",
    "class Person:\n",
    "    def __init__(self, name, age):\n",
    "        self.name = name\n",
    "        self.age = age\n",
    "An object is simply a collection of data (variables) and methods (functions). Similarly, a class is a blueprint for that object. Before we learn about objects, let's first know about classes in Python.\n",
    "example = \n",
    "person = {\n",
    "    \"name\": \"John\",\n",
    "    \"age\": 30,\n",
    "    \"gender\": \"male\"\n",
    "}\n"
   ]
  },
  {
   "cell_type": "markdown",
   "id": "a8e1a3a6-1850-438a-bcbe-526fafdf238e",
   "metadata": {},
   "source": [
    "Ans = 2\n",
    "1. encapsulation\n",
    "2. Abstract\n",
    "3. polymorphism\n",
    "4. inharitance"
   ]
  },
  {
   "cell_type": "markdown",
   "id": "da1290db-8fab-4c9e-a2bb-46f30f146ff5",
   "metadata": {},
   "source": [
    "Ans = 3\n",
    "The __init__() function is a special method in Python that is called when an object of a class is created. It is used to initialize the attributes of the object and perform any other setup that may be required before the object can be used.\n",
    "example = \n",
    "\n",
    "class Person:\n",
    "    def __init__(self, name, age):\n",
    "        self.name = name\n",
    "        self.age = age\n"
   ]
  },
  {
   "cell_type": "markdown",
   "id": "8ca623c4-5914-488d-8180-df269e9ed329",
   "metadata": {},
   "source": [
    "Ans = 4\n",
    "The self is used to represent the instance of the class. With this keyword, you can access the attributes and methods of the class in python. It binds the attributes with the given arguments. The reason why we use self is that Python does not use the '@' syntax to refer to instance attributes."
   ]
  },
  {
   "cell_type": "markdown",
   "id": "9483ff87-f2cb-44d8-a1a3-d32f449ed240",
   "metadata": {},
   "source": [
    "Ans = 5\n",
    "Inheritance is a fundamental concept in Object-Oriented Programming (OOP) that allows us to create a new class by deriving the characteristics of an existing class. The new class is called the \"subclass\" or \"derived class,\" and the existing class is called the \"base class\" or \"parent class.\" The subclass inherits the attributes and methods of the base class, and can also add new attributes and methods or override the ones inherited from the base class.\n",
    "\n",
    "There are four types of inheritance in OOP:\n",
    "\n",
    "1 = Single Inheritance: In single inheritance, a subclass inherits the characteristics of a single base class. For example:\n",
    "\n",
    "class Animal:\n",
    "    def __init__(self, name):\n",
    "        self.name = name\n",
    "\n",
    "class Dog(Animal):\n",
    "    def bark(self):\n",
    "        print(\"Woof!\")\n",
    "\n",
    "my_dog = Dog(\"Buddy\")\n",
    "print(my_dog.name)  # Output: \"Buddy\"\n",
    "my_dog.bark()  # Output: \"Woof!\"\n",
    "\n",
    "\n",
    "2 = Multiple Inheritance: In multiple inheritance, a subclass inherits the characteristics of multiple base classes. For example:\n",
    "\n",
    "class Flyer:\n",
    "    def fly(self):\n",
    "        print(\"I can fly!\")\n",
    "\n",
    "class Swimmer:\n",
    "    def swim(self):\n",
    "        print(\"I can swim!\")\n",
    "\n",
    "class Duck(Flyer, Swimmer):\n",
    "    pass\n",
    "\n",
    "my_duck = Duck()\n",
    "my_duck.fly()  # Output: \"I can fly!\"\n",
    "my_duck.swim()  # Output: \"I can swim!\"\n",
    "3 = Multi-Level Inheritance: In multi-level inheritance, a subclass is derived from another subclass. For example:\n",
    "\n",
    "\n",
    "class Vehicle:\n",
    "    def __init__(self, name):\n",
    "        self.name = name\n",
    "\n",
    "class Car(Vehicle):\n",
    "    def drive(self):\n",
    "        print(\"I can drive!\")\n",
    "\n",
    "class SportsCar(Car):\n",
    "    def go_fast(self):\n",
    "        print(\"I can go fast!\")\n",
    "\n",
    "my_sports_car = SportsCar(\"Ferrari\")\n",
    "print(my_sports_car.name)  # Output: \"Ferrari\"\n",
    "my_sports_car.drive()  # Output: \"I can drive!\"\n",
    "my_sports_car.go_fast()  # Output: \"I can go fast!\"\n",
    "\n",
    "\n",
    "4 = Hierarchical Inheritance: In hierarchical inheritance, multiple subclasses are derived from a single base class. For example:\n",
    "\n",
    "\n",
    "class Shape:\n",
    "    def __init__(self, color):\n",
    "        self.color = color\n",
    "\n",
    "class Circle(Shape):\n",
    "    def draw(self):\n",
    "        print(\"I can draw a circle!\")\n",
    "\n",
    "class Square(Shape):\n",
    "    def draw(self):\n",
    "        print(\"I can draw a square!\")\n",
    "\n",
    "my_circle = Circle(\"red\")\n",
    "my_circle.draw()  # Output: \"I can draw a circle!\"\n",
    "print(my_circle.color)  # Output: \"red\"\n",
    "\n",
    "my_square = Square(\"blue\")\n",
    "my_square.draw()  # Output: \"I can draw a square!\"\n",
    "print(my_square.color)  # Output: \"blue\"\n"
   ]
  },
  {
   "cell_type": "markdown",
   "id": "e73a45dc-c1ec-4e36-aae0-cdb23d4d4903",
   "metadata": {},
   "source": []
  }
 ],
 "metadata": {
  "kernelspec": {
   "display_name": "Python 3 (ipykernel)",
   "language": "python",
   "name": "python3"
  },
  "language_info": {
   "codemirror_mode": {
    "name": "ipython",
    "version": 3
   },
   "file_extension": ".py",
   "mimetype": "text/x-python",
   "name": "python",
   "nbconvert_exporter": "python",
   "pygments_lexer": "ipython3",
   "version": "3.10.8"
  }
 },
 "nbformat": 4,
 "nbformat_minor": 5
}
